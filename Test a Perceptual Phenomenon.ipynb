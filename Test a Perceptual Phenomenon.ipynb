{
 "cells": [
  {
   "cell_type": "markdown",
   "metadata": {},
   "source": [
    "# Project: Analyzing the Stroop Effect\n",
    "\n",
    "Background info:\n",
    "In a Stroop task, participants are presented with a list of words, with each word displayed in a color of ink. The participant’s task is to say out loud the color of the ink in which the word is printed. The task has two conditions: a congruent words condition, and an incongruent words condition. In the congruent words condition, the words being displayed are color words whose names match the colors in which they are printed: for example RED, BLUE. In the incongruent words condition, the words displayed are color words whose names do not match the colors in which they are printed: for example PURPLE, ORANGE. In each case, we measure the time it takes to name the ink colors in equally-sized lists. Each participant will go through and record a time from each condition."
   ]
  },
  {
   "cell_type": "markdown",
   "metadata": {},
   "source": [
    "## To analyze the effect, we will use variable and hypotheses:"
   ]
  },
  {
   "cell_type": "markdown",
   "metadata": {},
   "source": [
    "Independent variable: congruent and incongruent conditions of colors and words \n",
    "Dependent variable: time of reaction of participants"
   ]
  },
  {
   "cell_type": "markdown",
   "metadata": {},
   "source": [
    "H0(null Hypothуsis) - the same test execution time\n",
    "H0: μC(congruent) = μInc (incongruent)\n",
    "\n",
    "Ha(alternative Hyothуsis) - the decision of the test with an incongruent condition will take longer\n",
    "Ha: μC ≠ μInc\n",
    "\n",
    "We will use the dependent t-test for paired samples (so two-tail), since the σ are unknown and X(n) < 30 and each participant will record the time for both samples(paired samples)"
   ]
  },
  {
   "cell_type": "markdown",
   "metadata": {},
   "source": [
    "## Descriptive statistics for a data set:"
   ]
  },
  {
   "cell_type": "code",
   "execution_count": 1,
   "metadata": {
    "scrolled": false
   },
   "outputs": [],
   "source": [
    "import math\n",
    "import pandas as pd\n",
    "import matplotlib.pyplot as plt\n",
    "import seaborn as sns\n",
    "%matplotlib inline\n",
    "\n",
    "df = pd.read_csv('./stroopdata.csv')"
   ]
  },
  {
   "cell_type": "markdown",
   "metadata": {},
   "source": [
    "Sample size"
   ]
  },
  {
   "cell_type": "code",
   "execution_count": 2,
   "metadata": {},
   "outputs": [
    {
     "name": "stdout",
     "output_type": "stream",
     "text": [
      "XC =  24\n",
      "XINC =  24\n"
     ]
    }
   ],
   "source": [
    "print(\"XC = \", df['Congruent'].count())\n",
    "print(\"XINC = \", df['Incongruent'].count())"
   ]
  },
  {
   "cell_type": "markdown",
   "metadata": {},
   "source": [
    "Sample median"
   ]
  },
  {
   "cell_type": "code",
   "execution_count": 3,
   "metadata": {},
   "outputs": [
    {
     "name": "stdout",
     "output_type": "stream",
     "text": [
      "MCON =  14.3565\n",
      "MINC =  21.0175\n"
     ]
    }
   ],
   "source": [
    "print(\"MCON = \", df['Congruent'].median())\n",
    "print(\"MINC = \", df['Incongruent'].median())"
   ]
  },
  {
   "cell_type": "markdown",
   "metadata": {},
   "source": [
    "Sample mean"
   ]
  },
  {
   "cell_type": "code",
   "execution_count": 4,
   "metadata": {},
   "outputs": [
    {
     "name": "stdout",
     "output_type": "stream",
     "text": [
      "x̄C =  22.01591666666667\n",
      "x̄INC =  14.051125000000004\n"
     ]
    }
   ],
   "source": [
    "print(\"x̄C = \", df['Incongruent'].mean())\n",
    "print(\"x̄INC = \", df['Congruent'].mean())"
   ]
  },
  {
   "cell_type": "markdown",
   "metadata": {},
   "source": [
    "Sample standart deviation"
   ]
  },
  {
   "cell_type": "code",
   "execution_count": 5,
   "metadata": {},
   "outputs": [
    {
     "name": "stdout",
     "output_type": "stream",
     "text": [
      "σC =  4.797057122469138\n",
      "σINC =  3.559357957645195\n"
     ]
    }
   ],
   "source": [
    "print(\"σC = \", df['Incongruent'].std())\n",
    "print(\"σINC = \", df['Congruent'].std())\n"
   ]
  },
  {
   "cell_type": "markdown",
   "metadata": {},
   "source": [
    "## Visualizations"
   ]
  },
  {
   "cell_type": "code",
   "execution_count": 12,
   "metadata": {
    "scrolled": false
   },
   "outputs": [
    {
     "name": "stdout",
     "output_type": "stream",
     "text": [
      "Distribution plot of congruent condition\n"
     ]
    },
    {
     "data": {
      "image/png": "[encoded data removed]",
      "text/plain": [
       "<Figure size 432x288 with 1 Axes>"
      ]
     },
     "metadata": {
      "needs_background": "light"
     },
     "output_type": "display_data"
    }
   ],
   "source": [
    "sns.distplot(df['Congruent'])\n",
    "print('Distribution plot of congruent condition')"
   ]
  },
  {
   "cell_type": "code",
   "execution_count": 13,
   "metadata": {
    "scrolled": false
   },
   "outputs": [
    {
     "name": "stdout",
     "output_type": "stream",
     "text": [
      "Distribution plot of incongruent condition\n"
     ]
    },
    {
     "data": {
      "image/png": "[encoded data removed]",
      "text/plain": [
       "<Figure size 432x288 with 1 Axes>"
      ]
     },
     "metadata": {
      "needs_background": "light"
     },
     "output_type": "display_data"
    }
   ],
   "source": [
    "sns.distplot(df['Incongruent'])\n",
    "print('Distribution plot of incongruent condition')"
   ]
  },
  {
   "cell_type": "markdown",
   "metadata": {},
   "source": [
    "Both distribution graphs have fairly distinct peaks of average values. Distribution seems normal, there are outliers only in the incongruent sample, which do not affect the statistical picture as a whole. There is a clear difference in the response times of the congruent and incongruous data sets\n"
   ]
  },
  {
   "cell_type": "markdown",
   "metadata": {},
   "source": [
    "(5)  Now, perform the statistical test and report your results. What is your confidence level or Type I error associated with your test? What is your conclusion regarding the hypotheses you set up? Did the results match up with your expectations? **Hint:**  Think about what is being measured on each individual, and what statistic best captures how an individual reacts in each environment."
   ]
  },
  {
   "cell_type": "code",
   "execution_count": 8,
   "metadata": {},
   "outputs": [
    {
     "name": "stdout",
     "output_type": "stream",
     "text": [
      "The Point estimate =  7.964791666666665\n"
     ]
    }
   ],
   "source": [
    "POE = df['Congruent'].mean() - df['Incongruent'].mean()\n",
    "print('The Point estimate = ', math.fabs(POE))\n"
   ]
  },
  {
   "cell_type": "markdown",
   "metadata": {},
   "source": [
    "The Point estimate for difference of the means"
   ]
  },
  {
   "cell_type": "code",
   "execution_count": 9,
   "metadata": {
    "scrolled": false
   },
   "outputs": [
    {
     "name": "stdout",
     "output_type": "stream",
     "text": [
      "S = 4.864826910359056\n"
     ]
    }
   ],
   "source": [
    "SD = (df['Congruent'] - df['Incongruent']).std()\n",
    "print('S =', SD)"
   ]
  },
  {
   "cell_type": "markdown",
   "metadata": {},
   "source": [
    "Standart Deviation of the difference in time between the congruent and incongruent condition "
   ]
  },
  {
   "cell_type": "markdown",
   "metadata": {},
   "source": [
    "We will use the dependent t-test for paired samples (so two-tail), since the σ are unknown and X(n) < 30 and each participant will record the time for both samples(paired samples)"
   ]
  },
  {
   "cell_type": "code",
   "execution_count": 10,
   "metadata": {},
   "outputs": [
    {
     "name": "stdout",
     "output_type": "stream",
     "text": [
      "The t_statistic is: -8.020706944109955\n"
     ]
    }
   ],
   "source": [
    "t_statistic = POE / (SD/math.sqrt(len(df)))\n",
    "print(\"The t_statistic is:\",t_statistic)"
   ]
  },
  {
   "cell_type": "code",
   "execution_count": 11,
   "metadata": {
    "scrolled": true
   },
   "outputs": [
    {
     "name": "stdout",
     "output_type": "stream",
     "text": [
      "t_critical =  2.069\n"
     ]
    }
   ],
   "source": [
    "t_critical = 2.069\n",
    "print('t_critical = ', t_critical)"
   ]
  },
  {
   "cell_type": "markdown",
   "metadata": {},
   "source": [
    "Since we have two tails, alpha = 0.25. The number of degrees of freedom is 23. Therefore, the t-critical = 2.069 (t distribution values tab.)"
   ]
  },
  {
   "cell_type": "markdown",
   "metadata": {},
   "source": [
    "So H0 is reject, because t_statistic values(8.02) more than t_critical value(2.069).\n"
   ]
  },
  {
   "cell_type": "markdown",
   "metadata": {},
   "source": [
    "Conclusion: Ha is CONFIRMED Speaking words with a congruent condition takes less time than an incongruous condition."
   ]
  },
  {
   "cell_type": "markdown",
   "metadata": {},
   "source": [
    "(6) Optional: What do you think is responsible for the effects observed? Can you think of an alternative or similar task that would result in a similar effect? Some research about the problem will be helpful for thinking about these two questions!"
   ]
  },
  {
   "cell_type": "markdown",
   "metadata": {},
   "source": [
    "The cause of this effect is voluntary attention. The ability to control it allows you to avoid wasting time when reading words under incongruent conditions.\n",
    "A similar effect can be seen, for example, when trying to name the ten known football players who have their names duplicated on their backs. Discord of people and T-shirts will take longer"
   ]
  },
  {
   "cell_type": "markdown",
   "metadata": {},
   "source": [
    "\n",
    "#Sources: \n",
    "https://www.youtube.com/channel/UC3im-bGTHXpqKB0PJRjgY9Q  \n",
    "\n",
    "https://classroom.udacity.com/courses/ud134-nd"
   ]
  }
 ],
 "metadata": {
  "kernelspec": {
   "display_name": "Python 3",
   "language": "python",
   "name": "python3"
  },
  "language_info": {
   "codemirror_mode": {
    "name": "ipython",
    "version": 3
   },
   "file_extension": ".py",
   "mimetype": "text/x-python",
   "name": "python",
   "nbconvert_exporter": "python",
   "pygments_lexer": "ipython3",
   "version": "3.6.5"
  }
 },
 "nbformat": 4,
 "nbformat_minor": 2
}
